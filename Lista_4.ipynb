{
  "nbformat": 4,
  "nbformat_minor": 0,
  "metadata": {
    "colab": {
      "name": "Lista_4.ipynb",
      "provenance": [],
      "collapsed_sections": []
    },
    "kernelspec": {
      "name": "python3",
      "display_name": "Python 3"
    }
  },
  "cells": [
    {
      "cell_type": "markdown",
      "metadata": {
        "id": "DdiqrWy0N52a"
      },
      "source": [
        "# **LISTA 4**\n",
        "\n",
        "**Edvonaldo Horácio e José Carlos Pinheiro**"
      ]
    },
    {
      "cell_type": "markdown",
      "metadata": {
        "id": "53yqNSDxOYTL"
      },
      "source": [
        "**Questão 1 - a)**"
      ]
    },
    {
      "cell_type": "code",
      "metadata": {
        "id": "klmxLGobSDJy",
        "outputId": "dec88410-d8a8-4116-ba1a-bf01553a7961",
        "colab": {
          "base_uri": "https://localhost:8080/",
          "height": 204
        }
      },
      "source": [
        "import os\n",
        "import glob\n",
        "import nltk\n",
        "import random\n",
        "import pandas as pd\n",
        "import random\n",
        "import re\n",
        "import string\n",
        "\n",
        "folder_path = '/content/tech'\n",
        "\n",
        "texts = []\n",
        "\n",
        "for filename in glob.glob(os.path.join(folder_path, '*.txt')):\n",
        "\twith open(filename, 'r') as f_in:\n",
        "\t\ttexts.append([filename.split('/')[-1].split('.')[0], f_in.read()])\n",
        "\n",
        "df_corpus = pd.DataFrame.from_records(texts)\n",
        "df_corpus.columns = [\"id\", \"content\"]\n",
        "df_corpus.tail()\n",
        "\n"
      ],
      "execution_count": null,
      "outputs": [
        {
          "output_type": "execute_result",
          "data": {
            "text/html": [
              "<div>\n",
              "<style scoped>\n",
              "    .dataframe tbody tr th:only-of-type {\n",
              "        vertical-align: middle;\n",
              "    }\n",
              "\n",
              "    .dataframe tbody tr th {\n",
              "        vertical-align: top;\n",
              "    }\n",
              "\n",
              "    .dataframe thead th {\n",
              "        text-align: right;\n",
              "    }\n",
              "</style>\n",
              "<table border=\"1\" class=\"dataframe\">\n",
              "  <thead>\n",
              "    <tr style=\"text-align: right;\">\n",
              "      <th></th>\n",
              "      <th>id</th>\n",
              "      <th>content</th>\n",
              "    </tr>\n",
              "  </thead>\n",
              "  <tbody>\n",
              "    <tr>\n",
              "      <th>396</th>\n",
              "      <td>268</td>\n",
              "      <td>IBM frees 500 software patents\\n\\nComputer gia...</td>\n",
              "    </tr>\n",
              "    <tr>\n",
              "      <th>397</th>\n",
              "      <td>282</td>\n",
              "      <td>Dublin hi-tech labs to shut down\\n\\nDublin's h...</td>\n",
              "    </tr>\n",
              "    <tr>\n",
              "      <th>398</th>\n",
              "      <td>220</td>\n",
              "      <td>Britons growing 'digitally obese'\\n\\nGadget lo...</td>\n",
              "    </tr>\n",
              "    <tr>\n",
              "      <th>399</th>\n",
              "      <td>343</td>\n",
              "      <td>Ultra fast wi-fi nears completion\\n\\nUltra hig...</td>\n",
              "    </tr>\n",
              "    <tr>\n",
              "      <th>400</th>\n",
              "      <td>127</td>\n",
              "      <td>Gadget show heralds MP3 season\\n\\nPartners of ...</td>\n",
              "    </tr>\n",
              "  </tbody>\n",
              "</table>\n",
              "</div>"
            ],
            "text/plain": [
              "      id                                            content\n",
              "396  268  IBM frees 500 software patents\\n\\nComputer gia...\n",
              "397  282  Dublin hi-tech labs to shut down\\n\\nDublin's h...\n",
              "398  220  Britons growing 'digitally obese'\\n\\nGadget lo...\n",
              "399  343  Ultra fast wi-fi nears completion\\n\\nUltra hig...\n",
              "400  127  Gadget show heralds MP3 season\\n\\nPartners of ..."
            ]
          },
          "metadata": {
            "tags": []
          },
          "execution_count": 1
        }
      ]
    },
    {
      "cell_type": "code",
      "metadata": {
        "id": "BlXEOOOt8cZ7",
        "outputId": "7d722e50-3be4-4d75-c23f-676e828807ef",
        "colab": {
          "base_uri": "https://localhost:8080/",
          "height": 204
        }
      },
      "source": [
        "# PRÉ-PROCESSAMENTO\n",
        "# Analisei visualmente alocando até 10 tópicos por cada método (LDA, SVD e NMF):\n",
        "# Passos: Pré-processar, transformação vetorial e olhada nas palavras dos tópicos\n",
        "# Removendo as palavras que contém numeros\n",
        "df_corpus['content'] = df_corpus['content'].replace(to_replace=r'\\w*\\d\\w*', value='', regex=True)\n",
        "df_corpus.head(5)"
      ],
      "execution_count": null,
      "outputs": [
        {
          "output_type": "execute_result",
          "data": {
            "text/html": [
              "<div>\n",
              "<style scoped>\n",
              "    .dataframe tbody tr th:only-of-type {\n",
              "        vertical-align: middle;\n",
              "    }\n",
              "\n",
              "    .dataframe tbody tr th {\n",
              "        vertical-align: top;\n",
              "    }\n",
              "\n",
              "    .dataframe thead th {\n",
              "        text-align: right;\n",
              "    }\n",
              "</style>\n",
              "<table border=\"1\" class=\"dataframe\">\n",
              "  <thead>\n",
              "    <tr style=\"text-align: right;\">\n",
              "      <th></th>\n",
              "      <th>id</th>\n",
              "      <th>content</th>\n",
              "    </tr>\n",
              "  </thead>\n",
              "  <tbody>\n",
              "    <tr>\n",
              "      <th>0</th>\n",
              "      <td>370</td>\n",
              "      <td>Court mulls file-sharing future\\n\\nJudges at t...</td>\n",
              "    </tr>\n",
              "    <tr>\n",
              "      <th>1</th>\n",
              "      <td>115</td>\n",
              "      <td>Pompeii gets digital make-over\\n\\nThe old-fash...</td>\n",
              "    </tr>\n",
              "    <tr>\n",
              "      <th>2</th>\n",
              "      <td>394</td>\n",
              "      <td>TV's future down the phone line\\n\\nInternet TV...</td>\n",
              "    </tr>\n",
              "    <tr>\n",
              "      <th>3</th>\n",
              "      <td>198</td>\n",
              "      <td>Musical future for phones\\n\\nAnalyst Bill Thom...</td>\n",
              "    </tr>\n",
              "    <tr>\n",
              "      <th>4</th>\n",
              "      <td>074</td>\n",
              "      <td>China 'to overtake US net use'\\n\\nThe Chinese ...</td>\n",
              "    </tr>\n",
              "  </tbody>\n",
              "</table>\n",
              "</div>"
            ],
            "text/plain": [
              "    id                                            content\n",
              "0  370  Court mulls file-sharing future\\n\\nJudges at t...\n",
              "1  115  Pompeii gets digital make-over\\n\\nThe old-fash...\n",
              "2  394  TV's future down the phone line\\n\\nInternet TV...\n",
              "3  198  Musical future for phones\\n\\nAnalyst Bill Thom...\n",
              "4  074  China 'to overtake US net use'\\n\\nThe Chinese ..."
            ]
          },
          "metadata": {
            "tags": []
          },
          "execution_count": 3
        }
      ]
    },
    {
      "cell_type": "code",
      "metadata": {
        "id": "KidfgD_K8mKN"
      },
      "source": [
        "# Removendo pontuação\n",
        "def remove_punctuation(text):\n",
        "  return  re.sub('[%s]' % re.escape(string.punctuation), ' ', text)\n",
        "\n",
        "df_corpus['content'] = df_corpus['content'].apply(remove_punctuation) # Removendo pontuação"
      ],
      "execution_count": null,
      "outputs": []
    },
    {
      "cell_type": "code",
      "metadata": {
        "id": "XrVF0g4h8pwt",
        "outputId": "47878bea-b31c-433c-c825-a30754266091",
        "colab": {
          "base_uri": "https://localhost:8080/",
          "height": 221
        }
      },
      "source": [
        "# Tornando em minúscula\n",
        "df_corpus.content = df_corpus.content.str.lower()\n",
        "df_corpus.content"
      ],
      "execution_count": null,
      "outputs": [
        {
          "output_type": "execute_result",
          "data": {
            "text/plain": [
              "0      court mulls file sharing future\\n\\njudges at t...\n",
              "1      pompeii gets digital make over\\n\\nthe old fash...\n",
              "2      tv s future down the phone line\\n\\ninternet tv...\n",
              "3      musical future for phones\\n\\nanalyst bill thom...\n",
              "4      china  to overtake us net use \\n\\nthe chinese ...\n",
              "                             ...                        \n",
              "396    ibm frees  software patents\\n\\ncomputer giant ...\n",
              "397    dublin hi tech labs to shut down\\n\\ndublin s h...\n",
              "398    britons growing  digitally obese \\n\\ngadget lo...\n",
              "399    ultra fast wi fi nears completion\\n\\nultra hig...\n",
              "400    gadget show heralds  season\\n\\npartners of tho...\n",
              "Name: content, Length: 401, dtype: object"
            ]
          },
          "metadata": {
            "tags": []
          },
          "execution_count": 5
        }
      ]
    },
    {
      "cell_type": "code",
      "metadata": {
        "id": "fINmsNUD80Zn",
        "outputId": "9a34ef68-8577-4094-f138-37fadbf2cdcc",
        "colab": {
          "base_uri": "https://localhost:8080/",
          "height": 272
        }
      },
      "source": [
        "# Representação com TF-IDF\n",
        "from sklearn.metrics.pairwise import cosine_similarity\n",
        "from sklearn.feature_extraction.text import TfidfVectorizer\n",
        "\n",
        "df_corpus_tfidf = TfidfVectorizer(stop_words=\"english\")\n",
        "x_df_corpus_tfidf = df_corpus_tfidf.fit_transform(df_corpus.content).toarray()\n",
        "pd_df_corpus_tfidf = pd.DataFrame(x_df_corpus_tfidf, columns=df_corpus_tfidf.get_feature_names())\n",
        "print(pd_df_corpus_tfidf.shape)\n",
        "print(pd_df_corpus_tfidf)"
      ],
      "execution_count": null,
      "outputs": [
        {
          "output_type": "stream",
          "text": [
            "(401, 11337)\n",
            "     aaa  aaas  aac  aadc  aarhus  ...  zonealarm  zones  zoom  zooms  zurich\n",
            "0    0.0   0.0  0.0   0.0     0.0  ...        0.0    0.0   0.0    0.0     0.0\n",
            "1    0.0   0.0  0.0   0.0     0.0  ...        0.0    0.0   0.0    0.0     0.0\n",
            "2    0.0   0.0  0.0   0.0     0.0  ...        0.0    0.0   0.0    0.0     0.0\n",
            "3    0.0   0.0  0.0   0.0     0.0  ...        0.0    0.0   0.0    0.0     0.0\n",
            "4    0.0   0.0  0.0   0.0     0.0  ...        0.0    0.0   0.0    0.0     0.0\n",
            "..   ...   ...  ...   ...     ...  ...        ...    ...   ...    ...     ...\n",
            "396  0.0   0.0  0.0   0.0     0.0  ...        0.0    0.0   0.0    0.0     0.0\n",
            "397  0.0   0.0  0.0   0.0     0.0  ...        0.0    0.0   0.0    0.0     0.0\n",
            "398  0.0   0.0  0.0   0.0     0.0  ...        0.0    0.0   0.0    0.0     0.0\n",
            "399  0.0   0.0  0.0   0.0     0.0  ...        0.0    0.0   0.0    0.0     0.0\n",
            "400  0.0   0.0  0.0   0.0     0.0  ...        0.0    0.0   0.0    0.0     0.0\n",
            "\n",
            "[401 rows x 11337 columns]\n"
          ],
          "name": "stdout"
        }
      ]
    },
    {
      "cell_type": "code",
      "metadata": {
        "id": "pL7d_XBNAia3"
      },
      "source": [
        "# LDA\n",
        "from sklearn.decomposition import LatentDirichletAllocation\n",
        "\n",
        "lda_topics = []\n",
        "\n",
        "x = df_corpus_tfidf.fit_transform(df_corpus.content)\n",
        "\n",
        "# Até 10 tópicos\n",
        "for n_topics in range(3, 11, 1):\n",
        "  lda_aux = LatentDirichletAllocation(n_components=n_topics, random_state=42, learning_method='batch')\n",
        "  lda_aux_topics = lda_aux.fit_transform(x)\n",
        "  lda_topics.append(lda_aux_topics)"
      ],
      "execution_count": null,
      "outputs": []
    },
    {
      "cell_type": "code",
      "metadata": {
        "id": "CzNgIkUVEV-I",
        "outputId": "ba55482b-7a77-4f90-985a-123fc6e5c8ce",
        "colab": {
          "base_uri": "https://localhost:8080/",
          "height": 221
        }
      },
      "source": [
        "for rows in range(0, 8, 1):\n",
        "  print('', rows+3, 'topics: ', lda_topics[rows][0])"
      ],
      "execution_count": null,
      "outputs": [
        {
          "output_type": "stream",
          "text": [
            " 3 topics:  [0.94105313 0.02815352 0.03079335]\n",
            " 4 topics:  [0.02053693 0.02054567 0.02054444 0.93837297]\n",
            " 5 topics:  [0.0163212  0.01632381 0.01632342 0.01632295 0.93470861]\n",
            " 6 topics:  [0.01357973 0.01357981 0.01358013 0.93209496 0.01357959 0.01358579]\n",
            " 7 topics:  [0.01163524 0.01163592 0.0116353  0.93018622 0.01163579 0.0116353\n",
            " 0.01163622]\n",
            " 8 topics:  [0.01018059 0.01018065 0.01018358 0.01018116 0.92854833 0.01018089\n",
            " 0.01036416 0.01018064]\n",
            " 9 topics:  [0.00904877 0.1581089  0.00904874 0.04341614 0.0090562  0.31529339\n",
            " 0.43792476 0.0090491  0.009054  ]\n",
            " 10 topics:  [0.00814938 0.25944552 0.00814372 0.67534887 0.00814589 0.00814921\n",
            " 0.00814643 0.00814429 0.00815869 0.00816801]\n"
          ],
          "name": "stdout"
        }
      ]
    },
    {
      "cell_type": "code",
      "metadata": {
        "id": "58ICjsklag3T"
      },
      "source": [
        "# SVD\n",
        "from sklearn.decomposition import TruncatedSVD\n",
        "\n",
        "svd_topics = []\n",
        "\n",
        "# Até 10 tópicos\n",
        "for n_topics in range(3, 11, 1):\n",
        "  svd_aux = TruncatedSVD(n_components=n_topics, algorithm='randomized', random_state=42)\n",
        "  svd_aux_topics = svd_aux.fit(x)\n",
        "  svd_topics.append(svd_aux_topics)\n"
      ],
      "execution_count": null,
      "outputs": []
    },
    {
      "cell_type": "code",
      "metadata": {
        "id": "hBm9ucpdnwq3",
        "outputId": "2a97bb65-a628-4862-883e-93c769264dce",
        "colab": {
          "base_uri": "https://localhost:8080/",
          "height": 1000
        }
      },
      "source": [
        "terms_svd = df_corpus_tfidf.get_feature_names()\n",
        "\n",
        "for index in range(0, 8, 1):\n",
        "  print('', index+3, 'topics')\n",
        "  print(\"\")\n",
        "  for i, comp in enumerate(svd_topics[index].components_):\n",
        "    terms_comp = zip(terms_svd, comp)\n",
        "    sorted_terms = sorted(terms_comp, key= lambda x:x[1], reverse=True)[:7]\n",
        "    print(\"Topic \" +str(i)+ \": \")\n",
        "    for t in sorted_terms:\n",
        "      print(t[0])\n",
        "    print(\"\")"
      ],
      "execution_count": null,
      "outputs": [
        {
          "output_type": "stream",
          "text": [
            " 3 topics\n",
            "\n",
            "Topic 0: \n",
            "said\n",
            "mobile\n",
            "people\n",
            "music\n",
            "phone\n",
            "games\n",
            "digital\n",
            "\n",
            "Topic 1: \n",
            "virus\n",
            "spyware\n",
            "security\n",
            "software\n",
            "microsoft\n",
            "search\n",
            "mail\n",
            "\n",
            "Topic 2: \n",
            "games\n",
            "nintendo\n",
            "game\n",
            "ds\n",
            "sony\n",
            "microsoft\n",
            "console\n",
            "\n",
            " 4 topics\n",
            "\n",
            "Topic 0: \n",
            "said\n",
            "mobile\n",
            "people\n",
            "music\n",
            "phone\n",
            "games\n",
            "digital\n",
            "\n",
            "Topic 1: \n",
            "virus\n",
            "spyware\n",
            "security\n",
            "software\n",
            "microsoft\n",
            "search\n",
            "mail\n",
            "\n",
            "Topic 2: \n",
            "games\n",
            "nintendo\n",
            "game\n",
            "ds\n",
            "sony\n",
            "console\n",
            "microsoft\n",
            "\n",
            "Topic 3: \n",
            "search\n",
            "broadband\n",
            "google\n",
            "bt\n",
            "yahoo\n",
            "web\n",
            "tv\n",
            "\n",
            " 5 topics\n",
            "\n",
            "Topic 0: \n",
            "said\n",
            "mobile\n",
            "people\n",
            "music\n",
            "phone\n",
            "games\n",
            "digital\n",
            "\n",
            "Topic 1: \n",
            "virus\n",
            "spyware\n",
            "security\n",
            "software\n",
            "microsoft\n",
            "search\n",
            "mail\n",
            "\n",
            "Topic 2: \n",
            "games\n",
            "nintendo\n",
            "game\n",
            "ds\n",
            "sony\n",
            "console\n",
            "microsoft\n",
            "\n",
            "Topic 3: \n",
            "search\n",
            "broadband\n",
            "google\n",
            "bt\n",
            "tv\n",
            "yahoo\n",
            "web\n",
            "\n",
            "Topic 4: \n",
            "broadband\n",
            "bt\n",
            "nintendo\n",
            "game\n",
            "ds\n",
            "games\n",
            "uk\n",
            "\n",
            " 6 topics\n",
            "\n",
            "Topic 0: \n",
            "said\n",
            "mobile\n",
            "people\n",
            "music\n",
            "phone\n",
            "games\n",
            "digital\n",
            "\n",
            "Topic 1: \n",
            "virus\n",
            "spyware\n",
            "security\n",
            "software\n",
            "microsoft\n",
            "search\n",
            "mail\n",
            "\n",
            "Topic 2: \n",
            "games\n",
            "nintendo\n",
            "game\n",
            "ds\n",
            "sony\n",
            "console\n",
            "microsoft\n",
            "\n",
            "Topic 3: \n",
            "search\n",
            "broadband\n",
            "google\n",
            "bt\n",
            "yahoo\n",
            "web\n",
            "tv\n",
            "\n",
            "Topic 4: \n",
            "broadband\n",
            "bt\n",
            "game\n",
            "nintendo\n",
            "games\n",
            "ds\n",
            "uk\n",
            "\n",
            "Topic 5: \n",
            "search\n",
            "mobile\n",
            "google\n",
            "phones\n",
            "desktop\n",
            "yahoo\n",
            "jeeves\n",
            "\n",
            " 7 topics\n",
            "\n",
            "Topic 0: \n",
            "said\n",
            "mobile\n",
            "people\n",
            "music\n",
            "phone\n",
            "games\n",
            "digital\n",
            "\n",
            "Topic 1: \n",
            "virus\n",
            "spyware\n",
            "security\n",
            "software\n",
            "microsoft\n",
            "search\n",
            "mail\n",
            "\n",
            "Topic 2: \n",
            "games\n",
            "nintendo\n",
            "game\n",
            "ds\n",
            "sony\n",
            "console\n",
            "microsoft\n",
            "\n",
            "Topic 3: \n",
            "search\n",
            "broadband\n",
            "google\n",
            "bt\n",
            "yahoo\n",
            "web\n",
            "tv\n",
            "\n",
            "Topic 4: \n",
            "music\n",
            "apple\n",
            "ipod\n",
            "mac\n",
            "digital\n",
            "peer\n",
            "file\n",
            "\n",
            "Topic 5: \n",
            "search\n",
            "mobile\n",
            "google\n",
            "phones\n",
            "desktop\n",
            "yahoo\n",
            "jeeves\n",
            "\n",
            "Topic 6: \n",
            "microsoft\n",
            "spyware\n",
            "search\n",
            "windows\n",
            "music\n",
            "security\n",
            "broadband\n",
            "\n",
            " 8 topics\n",
            "\n",
            "Topic 0: \n",
            "said\n",
            "mobile\n",
            "people\n",
            "music\n",
            "phone\n",
            "games\n",
            "digital\n",
            "\n",
            "Topic 1: \n",
            "virus\n",
            "spyware\n",
            "security\n",
            "software\n",
            "microsoft\n",
            "search\n",
            "mail\n",
            "\n",
            "Topic 2: \n",
            "games\n",
            "nintendo\n",
            "game\n",
            "ds\n",
            "sony\n",
            "console\n",
            "microsoft\n",
            "\n",
            "Topic 3: \n",
            "search\n",
            "broadband\n",
            "bt\n",
            "google\n",
            "yahoo\n",
            "web\n",
            "tv\n",
            "\n",
            "Topic 4: \n",
            "broadband\n",
            "bt\n",
            "game\n",
            "nintendo\n",
            "games\n",
            "ds\n",
            "uk\n",
            "\n",
            "Topic 5: \n",
            "search\n",
            "mobile\n",
            "google\n",
            "phones\n",
            "desktop\n",
            "yahoo\n",
            "jeeves\n",
            "\n",
            "Topic 6: \n",
            "spam\n",
            "sites\n",
            "lycos\n",
            "site\n",
            "screensaver\n",
            "campaign\n",
            "attacks\n",
            "\n",
            "Topic 7: \n",
            "law\n",
            "software\n",
            "eu\n",
            "games\n",
            "patent\n",
            "directive\n",
            "parliament\n",
            "\n",
            " 9 topics\n",
            "\n",
            "Topic 0: \n",
            "said\n",
            "mobile\n",
            "people\n",
            "music\n",
            "phone\n",
            "games\n",
            "digital\n",
            "\n",
            "Topic 1: \n",
            "virus\n",
            "spyware\n",
            "security\n",
            "software\n",
            "microsoft\n",
            "search\n",
            "mail\n",
            "\n",
            "Topic 2: \n",
            "games\n",
            "nintendo\n",
            "game\n",
            "ds\n",
            "sony\n",
            "console\n",
            "microsoft\n",
            "\n",
            "Topic 3: \n",
            "search\n",
            "broadband\n",
            "google\n",
            "bt\n",
            "yahoo\n",
            "web\n",
            "tv\n",
            "\n",
            "Topic 4: \n",
            "broadband\n",
            "bt\n",
            "game\n",
            "nintendo\n",
            "games\n",
            "ds\n",
            "uk\n",
            "\n",
            "Topic 5: \n",
            "search\n",
            "mobile\n",
            "google\n",
            "phones\n",
            "desktop\n",
            "yahoo\n",
            "jeeves\n",
            "\n",
            "Topic 6: \n",
            "spam\n",
            "sites\n",
            "law\n",
            "lycos\n",
            "screensaver\n",
            "site\n",
            "game\n",
            "\n",
            "Topic 7: \n",
            "games\n",
            "law\n",
            "software\n",
            "eu\n",
            "game\n",
            "patent\n",
            "dvd\n",
            "\n",
            "Topic 8: \n",
            "dvd\n",
            "blu\n",
            "definition\n",
            "dvds\n",
            "ray\n",
            "hd\n",
            "high\n",
            "\n",
            " 10 topics\n",
            "\n",
            "Topic 0: \n",
            "said\n",
            "mobile\n",
            "people\n",
            "music\n",
            "phone\n",
            "games\n",
            "digital\n",
            "\n",
            "Topic 1: \n",
            "virus\n",
            "spyware\n",
            "security\n",
            "software\n",
            "microsoft\n",
            "search\n",
            "mail\n",
            "\n",
            "Topic 2: \n",
            "games\n",
            "nintendo\n",
            "game\n",
            "ds\n",
            "sony\n",
            "console\n",
            "microsoft\n",
            "\n",
            "Topic 3: \n",
            "search\n",
            "broadband\n",
            "google\n",
            "bt\n",
            "yahoo\n",
            "tv\n",
            "web\n",
            "\n",
            "Topic 4: \n",
            "broadband\n",
            "bt\n",
            "game\n",
            "games\n",
            "nintendo\n",
            "ds\n",
            "uk\n",
            "\n",
            "Topic 5: \n",
            "search\n",
            "mobile\n",
            "google\n",
            "phones\n",
            "desktop\n",
            "yahoo\n",
            "jeeves\n",
            "\n",
            "Topic 6: \n",
            "spam\n",
            "sites\n",
            "site\n",
            "lycos\n",
            "screensaver\n",
            "law\n",
            "game\n",
            "\n",
            "Topic 7: \n",
            "music\n",
            "spam\n",
            "apple\n",
            "nintendo\n",
            "ds\n",
            "ipod\n",
            "psp\n",
            "\n",
            "Topic 8: \n",
            "law\n",
            "eu\n",
            "patent\n",
            "directive\n",
            "parliament\n",
            "software\n",
            "european\n",
            "\n",
            "Topic 9: \n",
            "sony\n",
            "law\n",
            "spam\n",
            "ds\n",
            "dvd\n",
            "nintendo\n",
            "psp\n",
            "\n"
          ],
          "name": "stdout"
        }
      ]
    },
    {
      "cell_type": "code",
      "metadata": {
        "id": "TzH0Ck3MCBRI"
      },
      "source": [
        "# NMF\n",
        "from sklearn.decomposition import NMF\n",
        "\n",
        "nmf_topics = []\n",
        "\n",
        "# Até 10 tópicos\n",
        "for n_topics in range(3, 11, 1):\n",
        "  nmf_aux = NMF(n_components=n_topics)\n",
        "  nmf_aux_topics = nmf_aux.fit(x)\n",
        "  nmf_topics.append(nmf_aux_topics)"
      ],
      "execution_count": null,
      "outputs": []
    },
    {
      "cell_type": "code",
      "metadata": {
        "id": "q0kGOXpPEIih",
        "outputId": "44183bcb-c649-4cb8-faa7-6a316f53e1c3",
        "colab": {
          "base_uri": "https://localhost:8080/",
          "height": 1000
        }
      },
      "source": [
        "# Topics\n",
        "terms_nmf = df_corpus_tfidf.get_feature_names()\n",
        "\n",
        "for index in range(0, 8, 1):\n",
        "  print('', index+3, 'topics')\n",
        "  print(\"\")\n",
        "  for i, comp in enumerate(nmf_topics[index].components_):\n",
        "    terms_comp = zip(terms_nmf, comp)\n",
        "    sorted_terms = sorted(terms_comp, key= lambda x:x[1], reverse=True)[:7]\n",
        "    print(\"Topic \" +str(i)+ \": \")\n",
        "    for t in sorted_terms:\n",
        "      print(t[0])\n",
        "    print(\"\")"
      ],
      "execution_count": null,
      "outputs": [
        {
          "output_type": "stream",
          "text": [
            " 3 topics\n",
            "\n",
            "Topic 0: \n",
            "mobile\n",
            "phone\n",
            "music\n",
            "broadband\n",
            "people\n",
            "said\n",
            "tv\n",
            "\n",
            "Topic 1: \n",
            "software\n",
            "virus\n",
            "microsoft\n",
            "security\n",
            "spyware\n",
            "search\n",
            "said\n",
            "\n",
            "Topic 2: \n",
            "games\n",
            "game\n",
            "nintendo\n",
            "sony\n",
            "ds\n",
            "gaming\n",
            "console\n",
            "\n",
            " 4 topics\n",
            "\n",
            "Topic 0: \n",
            "mobile\n",
            "music\n",
            "phone\n",
            "phones\n",
            "said\n",
            "digital\n",
            "mobiles\n",
            "\n",
            "Topic 1: \n",
            "virus\n",
            "software\n",
            "security\n",
            "spyware\n",
            "microsoft\n",
            "mail\n",
            "anti\n",
            "\n",
            "Topic 2: \n",
            "games\n",
            "game\n",
            "nintendo\n",
            "sony\n",
            "ds\n",
            "gaming\n",
            "console\n",
            "\n",
            "Topic 3: \n",
            "broadband\n",
            "search\n",
            "bt\n",
            "net\n",
            "people\n",
            "tv\n",
            "said\n",
            "\n",
            " 5 topics\n",
            "\n",
            "Topic 0: \n",
            "mobile\n",
            "phone\n",
            "broadband\n",
            "phones\n",
            "bt\n",
            "people\n",
            "mobiles\n",
            "\n",
            "Topic 1: \n",
            "virus\n",
            "spyware\n",
            "security\n",
            "software\n",
            "microsoft\n",
            "anti\n",
            "mail\n",
            "\n",
            "Topic 2: \n",
            "games\n",
            "game\n",
            "nintendo\n",
            "ds\n",
            "sony\n",
            "gaming\n",
            "console\n",
            "\n",
            "Topic 3: \n",
            "search\n",
            "google\n",
            "yahoo\n",
            "desktop\n",
            "web\n",
            "jeeves\n",
            "blogs\n",
            "\n",
            "Topic 4: \n",
            "music\n",
            "digital\n",
            "apple\n",
            "players\n",
            "said\n",
            "ipod\n",
            "content\n",
            "\n",
            " 6 topics\n",
            "\n",
            "Topic 0: \n",
            "mobile\n",
            "phone\n",
            "phones\n",
            "mobiles\n",
            "said\n",
            "people\n",
            "handsets\n",
            "\n",
            "Topic 1: \n",
            "virus\n",
            "spyware\n",
            "security\n",
            "software\n",
            "microsoft\n",
            "anti\n",
            "mail\n",
            "\n",
            "Topic 2: \n",
            "games\n",
            "game\n",
            "nintendo\n",
            "ds\n",
            "sony\n",
            "gaming\n",
            "console\n",
            "\n",
            "Topic 3: \n",
            "broadband\n",
            "bt\n",
            "net\n",
            "uk\n",
            "tv\n",
            "people\n",
            "million\n",
            "\n",
            "Topic 4: \n",
            "music\n",
            "digital\n",
            "apple\n",
            "players\n",
            "said\n",
            "ipod\n",
            "technology\n",
            "\n",
            "Topic 5: \n",
            "search\n",
            "google\n",
            "yahoo\n",
            "desktop\n",
            "web\n",
            "jeeves\n",
            "ask\n",
            "\n",
            " 7 topics\n",
            "\n",
            "Topic 0: \n",
            "mobile\n",
            "phone\n",
            "phones\n",
            "mobiles\n",
            "said\n",
            "handsets\n",
            "people\n",
            "\n",
            "Topic 1: \n",
            "spyware\n",
            "virus\n",
            "microsoft\n",
            "security\n",
            "software\n",
            "windows\n",
            "anti\n",
            "\n",
            "Topic 2: \n",
            "games\n",
            "game\n",
            "nintendo\n",
            "ds\n",
            "sony\n",
            "gaming\n",
            "console\n",
            "\n",
            "Topic 3: \n",
            "broadband\n",
            "bt\n",
            "net\n",
            "uk\n",
            "tv\n",
            "people\n",
            "million\n",
            "\n",
            "Topic 4: \n",
            "music\n",
            "digital\n",
            "apple\n",
            "players\n",
            "ipod\n",
            "dvd\n",
            "technology\n",
            "\n",
            "Topic 5: \n",
            "search\n",
            "google\n",
            "yahoo\n",
            "desktop\n",
            "jeeves\n",
            "web\n",
            "ask\n",
            "\n",
            "Topic 6: \n",
            "spam\n",
            "said\n",
            "mail\n",
            "site\n",
            "sites\n",
            "attacks\n",
            "lycos\n",
            "\n",
            " 8 topics\n",
            "\n",
            "Topic 0: \n",
            "mobile\n",
            "phone\n",
            "phones\n",
            "mobiles\n",
            "said\n",
            "people\n",
            "handsets\n",
            "\n",
            "Topic 1: \n",
            "spyware\n",
            "virus\n",
            "microsoft\n",
            "security\n",
            "software\n",
            "windows\n",
            "anti\n",
            "\n",
            "Topic 2: \n",
            "games\n",
            "game\n",
            "xbox\n",
            "titles\n",
            "halo\n",
            "awards\n",
            "ea\n",
            "\n",
            "Topic 3: \n",
            "broadband\n",
            "bt\n",
            "net\n",
            "uk\n",
            "tv\n",
            "people\n",
            "million\n",
            "\n",
            "Topic 4: \n",
            "music\n",
            "digital\n",
            "apple\n",
            "players\n",
            "ipod\n",
            "content\n",
            "devices\n",
            "\n",
            "Topic 5: \n",
            "search\n",
            "google\n",
            "desktop\n",
            "yahoo\n",
            "jeeves\n",
            "web\n",
            "ask\n",
            "\n",
            "Topic 6: \n",
            "spam\n",
            "mail\n",
            "said\n",
            "site\n",
            "sites\n",
            "attacks\n",
            "lycos\n",
            "\n",
            "Topic 7: \n",
            "nintendo\n",
            "ds\n",
            "sony\n",
            "psp\n",
            "handheld\n",
            "console\n",
            "gaming\n",
            "\n",
            " 9 topics\n",
            "\n",
            "Topic 0: \n",
            "mobile\n",
            "phone\n",
            "phones\n",
            "mobiles\n",
            "people\n",
            "said\n",
            "camera\n",
            "\n",
            "Topic 1: \n",
            "spyware\n",
            "microsoft\n",
            "virus\n",
            "security\n",
            "software\n",
            "windows\n",
            "anti\n",
            "\n",
            "Topic 2: \n",
            "games\n",
            "game\n",
            "xbox\n",
            "titles\n",
            "halo\n",
            "awards\n",
            "ea\n",
            "\n",
            "Topic 3: \n",
            "broadband\n",
            "bt\n",
            "net\n",
            "uk\n",
            "tv\n",
            "people\n",
            "million\n",
            "\n",
            "Topic 4: \n",
            "music\n",
            "digital\n",
            "apple\n",
            "players\n",
            "ipod\n",
            "said\n",
            "content\n",
            "\n",
            "Topic 5: \n",
            "search\n",
            "google\n",
            "desktop\n",
            "yahoo\n",
            "jeeves\n",
            "web\n",
            "ask\n",
            "\n",
            "Topic 6: \n",
            "spam\n",
            "mail\n",
            "attacks\n",
            "sites\n",
            "site\n",
            "lycos\n",
            "screensaver\n",
            "\n",
            "Topic 7: \n",
            "nintendo\n",
            "ds\n",
            "sony\n",
            "psp\n",
            "handheld\n",
            "console\n",
            "gaming\n",
            "\n",
            "Topic 8: \n",
            "law\n",
            "eu\n",
            "patent\n",
            "directive\n",
            "parliament\n",
            "european\n",
            "software\n",
            "\n",
            " 10 topics\n",
            "\n",
            "Topic 0: \n",
            "mobile\n",
            "phone\n",
            "phones\n",
            "mobiles\n",
            "people\n",
            "camera\n",
            "handsets\n",
            "\n",
            "Topic 1: \n",
            "spyware\n",
            "microsoft\n",
            "virus\n",
            "security\n",
            "software\n",
            "windows\n",
            "anti\n",
            "\n",
            "Topic 2: \n",
            "games\n",
            "game\n",
            "xbox\n",
            "titles\n",
            "halo\n",
            "awards\n",
            "play\n",
            "\n",
            "Topic 3: \n",
            "broadband\n",
            "bt\n",
            "net\n",
            "tv\n",
            "uk\n",
            "people\n",
            "million\n",
            "\n",
            "Topic 4: \n",
            "music\n",
            "apple\n",
            "digital\n",
            "ipod\n",
            "players\n",
            "said\n",
            "mac\n",
            "\n",
            "Topic 5: \n",
            "search\n",
            "google\n",
            "desktop\n",
            "yahoo\n",
            "jeeves\n",
            "web\n",
            "ask\n",
            "\n",
            "Topic 6: \n",
            "spam\n",
            "mail\n",
            "attacks\n",
            "sites\n",
            "site\n",
            "lycos\n",
            "screensaver\n",
            "\n",
            "Topic 7: \n",
            "nintendo\n",
            "ds\n",
            "sony\n",
            "psp\n",
            "handheld\n",
            "console\n",
            "gaming\n",
            "\n",
            "Topic 8: \n",
            "law\n",
            "eu\n",
            "patent\n",
            "directive\n",
            "parliament\n",
            "european\n",
            "software\n",
            "\n",
            "Topic 9: \n",
            "dvd\n",
            "dvds\n",
            "blu\n",
            "definition\n",
            "ray\n",
            "hd\n",
            "high\n",
            "\n"
          ],
          "name": "stdout"
        }
      ]
    },
    {
      "cell_type": "markdown",
      "metadata": {
        "id": "6bk_2ZGayb8s"
      },
      "source": [
        "Vemos que pelos 3 algorimos, especialmente o LDA, 4 tópicos é uma quantidade ótima, uma vez que acima disso, há semelhanças consideráveis."
      ]
    },
    {
      "cell_type": "markdown",
      "metadata": {
        "id": "elDGB96ZOgRr"
      },
      "source": [
        "**Questão 1 - b)**"
      ]
    },
    {
      "cell_type": "code",
      "metadata": {
        "id": "2QsczEm8yvxy"
      },
      "source": [
        "# LDA\n",
        "lda_topics_words = LatentDirichletAllocation(n_components=4, random_state=42, learning_method='batch')\n",
        "\n",
        "lda_words = lda_topics_words.fit(x)\n",
        "\n",
        "# Topics\n",
        "words_lda = df_corpus_tfidf.get_feature_names()\n",
        "sorted_terms_lda = []\n",
        "for i, comp in enumerate(lda_words.components_):\n",
        "  terms_comp = zip(words_lda, comp)\n",
        "  sorted_terms_aux = sorted(terms_comp, key= lambda x:x[1], reverse=True)[:7]\n",
        "  sorted_terms_lda.append(sorted_terms_aux)"
      ],
      "execution_count": null,
      "outputs": []
    },
    {
      "cell_type": "code",
      "metadata": {
        "id": "Eda8o45f8Qlo",
        "outputId": "4930a5ca-2c80-4a84-fd61-62a0cbfd83a4",
        "colab": {
          "base_uri": "https://localhost:8080/",
          "height": 510
        }
      },
      "source": [
        "# Topics LDA\n",
        "print(\"LDA method\")\n",
        "for i in range(4):\n",
        "  print(\"Topic \", i)\n",
        "  for j in range(5):\n",
        "    print(\"Word \", j, \":\", sorted_terms_lda[i][j][0])\n",
        "  print(\"\")"
      ],
      "execution_count": null,
      "outputs": [
        {
          "output_type": "stream",
          "text": [
            "LDA method\n",
            "Topic  0\n",
            "Word  0 : virus\n",
            "Word  1 : spam\n",
            "Word  2 : spyware\n",
            "Word  3 : attacks\n",
            "Word  4 : mail\n",
            "\n",
            "Topic  1\n",
            "Word  0 : domains\n",
            "Word  1 : icann\n",
            "Word  2 : proposal\n",
            "Word  3 : varying\n",
            "Word  4 : administrative\n",
            "\n",
            "Topic  2\n",
            "Word  0 : cabir\n",
            "Word  1 : seafarers\n",
            "Word  2 : wong\n",
            "Word  3 : bloglines\n",
            "Word  4 : zafi\n",
            "\n",
            "Topic  3\n",
            "Word  0 : said\n",
            "Word  1 : people\n",
            "Word  2 : mobile\n",
            "Word  3 : games\n",
            "Word  4 : music\n",
            "\n"
          ],
          "name": "stdout"
        }
      ]
    },
    {
      "cell_type": "code",
      "metadata": {
        "id": "JWjjP8czAsey",
        "outputId": "f86b0ba6-87e0-4da4-edec-258d51fae4f0",
        "colab": {
          "base_uri": "https://localhost:8080/",
          "height": 510
        }
      },
      "source": [
        "# SVD\n",
        "words_svd = df_corpus_tfidf.get_feature_names()\n",
        "sorted_terms_svd = []\n",
        "for i, comp in enumerate(svd_topics[1].components_):\n",
        "  terms_comp = zip(words_svd, comp)\n",
        "  sorted_terms_aux = sorted(terms_comp, key= lambda x:x[1], reverse=True)[:7]\n",
        "  sorted_terms_svd.append(sorted_terms_aux)\n",
        "\n",
        "# Topic SVD\n",
        "print(\"SVD method\")\n",
        "for i in range(4):\n",
        "  print(\"Topic \", i)\n",
        "  for j in range(5):\n",
        "    print(\"Word \", j, \":\", sorted_terms_svd[i][j][0])\n",
        "  print(\"\")"
      ],
      "execution_count": null,
      "outputs": [
        {
          "output_type": "stream",
          "text": [
            "SVD method\n",
            "Topic  0\n",
            "Word  0 : said\n",
            "Word  1 : mobile\n",
            "Word  2 : people\n",
            "Word  3 : music\n",
            "Word  4 : phone\n",
            "\n",
            "Topic  1\n",
            "Word  0 : virus\n",
            "Word  1 : spyware\n",
            "Word  2 : security\n",
            "Word  3 : software\n",
            "Word  4 : microsoft\n",
            "\n",
            "Topic  2\n",
            "Word  0 : games\n",
            "Word  1 : nintendo\n",
            "Word  2 : game\n",
            "Word  3 : ds\n",
            "Word  4 : sony\n",
            "\n",
            "Topic  3\n",
            "Word  0 : search\n",
            "Word  1 : broadband\n",
            "Word  2 : google\n",
            "Word  3 : bt\n",
            "Word  4 : yahoo\n",
            "\n"
          ],
          "name": "stdout"
        }
      ]
    },
    {
      "cell_type": "code",
      "metadata": {
        "id": "hH-_zoAzCGRR",
        "outputId": "d485e177-0d37-4053-eafb-9c94a139da7b",
        "colab": {
          "base_uri": "https://localhost:8080/",
          "height": 510
        }
      },
      "source": [
        "# NMF\n",
        "words_nmf = df_corpus_tfidf.get_feature_names()\n",
        "sorted_terms_nmf = []\n",
        "for i, comp in enumerate(nmf_topics[1].components_):\n",
        "  terms_comp = zip(words_nmf, comp)\n",
        "  sorted_terms_aux = sorted(terms_comp, key= lambda x:x[1], reverse=True)[:7]\n",
        "  sorted_terms_nmf.append(sorted_terms_aux)\n",
        "\n",
        "# Topic NMF\n",
        "print(\"NMF method\")\n",
        "for i in range(4):\n",
        "  print(\"Topic \", i)\n",
        "  for j in range(5):\n",
        "    print(\"Word \", j, \":\", sorted_terms_nmf[i][j][0])\n",
        "  print(\"\")"
      ],
      "execution_count": null,
      "outputs": [
        {
          "output_type": "stream",
          "text": [
            "NMF method\n",
            "Topic  0\n",
            "Word  0 : mobile\n",
            "Word  1 : music\n",
            "Word  2 : phone\n",
            "Word  3 : phones\n",
            "Word  4 : said\n",
            "\n",
            "Topic  1\n",
            "Word  0 : virus\n",
            "Word  1 : software\n",
            "Word  2 : security\n",
            "Word  3 : spyware\n",
            "Word  4 : microsoft\n",
            "\n",
            "Topic  2\n",
            "Word  0 : games\n",
            "Word  1 : game\n",
            "Word  2 : nintendo\n",
            "Word  3 : sony\n",
            "Word  4 : ds\n",
            "\n",
            "Topic  3\n",
            "Word  0 : broadband\n",
            "Word  1 : search\n",
            "Word  2 : bt\n",
            "Word  3 : net\n",
            "Word  4 : people\n",
            "\n"
          ],
          "name": "stdout"
        }
      ]
    },
    {
      "cell_type": "markdown",
      "metadata": {
        "id": "mpgjUnU1Okxb"
      },
      "source": [
        "**Questão 1 - c)**"
      ]
    },
    {
      "cell_type": "code",
      "metadata": {
        "id": "64XjymsCFAnf",
        "outputId": "517a24b8-e84a-49ef-b195-d6a7a3ea3bad",
        "colab": {
          "base_uri": "https://localhost:8080/",
          "height": 119
        }
      },
      "source": [
        "# Escolhendo aleatoriamente 3 textos no data frame\n",
        "df_5_texts = df_corpus.sample(n=5)\n",
        "\n",
        "print(df_5_texts)"
      ],
      "execution_count": null,
      "outputs": [
        {
          "output_type": "stream",
          "text": [
            "      id                                            content\n",
            "155  047  millions buy  players in us\\n\\none in  adult a...\n",
            "253  310  latest opera browser gets vocal\\n\\nnet browser...\n",
            "234  268  ibm frees  software patents\\n\\ncomputer giant ...\n",
            "23   108  search wars hit desktop pcs\\n\\nanother front i...\n",
            "232  015  xbox power cable  fire fear \\n\\nmicrosoft has ...\n"
          ],
          "name": "stdout"
        }
      ]
    },
    {
      "cell_type": "code",
      "metadata": {
        "id": "Uy4l7-oVFwun",
        "outputId": "7c7273d0-75b1-4f47-dffe-7ac9fcaaba7e",
        "colab": {
          "base_uri": "https://localhost:8080/",
          "height": 34
        }
      },
      "source": [
        "# TF-IDF\n",
        "df_5_tfidf = TfidfVectorizer(stop_words=\"english\")\n",
        "x_df_5_tfidf = df_5_tfidf.fit_transform(df_5_texts.content).toarray()\n",
        "pd_df_5_tfidf = pd.DataFrame(x_df_5_tfidf, columns=df_5_tfidf.get_feature_names())\n",
        "print(pd_df_5_tfidf.shape)\n",
        "x_5 = df_5_tfidf.fit_transform(df_5_texts.content)"
      ],
      "execution_count": null,
      "outputs": [
        {
          "output_type": "stream",
          "text": [
            "(5, 609)\n"
          ],
          "name": "stdout"
        }
      ]
    },
    {
      "cell_type": "code",
      "metadata": {
        "id": "8Fwp5XqtGUsz"
      },
      "source": [
        "# LDA\n",
        "lda_5_twords = LatentDirichletAllocation(n_components=3, random_state=42, learning_method='batch')\n",
        "\n",
        "lda_twords = lda_5_twords.fit(x_5)\n",
        "\n",
        "# Topics\n",
        "words_lda_5 = df_5_tfidf.get_feature_names()\n",
        "terms_lda_5 = []\n",
        "for i, comp in enumerate(lda_5_twords.components_):\n",
        "  terms_comp = zip(words_lda_5, comp)\n",
        "  sorted_terms_aux = sorted(terms_comp, key= lambda x:x[1], reverse=True)[:7]\n",
        "  terms_lda_5.append(sorted_terms_aux)"
      ],
      "execution_count": null,
      "outputs": []
    },
    {
      "cell_type": "code",
      "metadata": {
        "id": "Tmpo1NdHHSG3",
        "outputId": "f5f52b0a-da19-47f0-be1b-618ca8f9c33d",
        "colab": {
          "base_uri": "https://localhost:8080/",
          "height": 391
        }
      },
      "source": [
        "# Topics LDA\n",
        "print(\"LDA method - 3 topics\")\n",
        "for i in range(3):\n",
        "  print(\"Topic \", i)\n",
        "  for j in range(5):\n",
        "    print(\"Word \", j, \":\", terms_lda_5[i][j][0])\n",
        "  print(\"\")"
      ],
      "execution_count": null,
      "outputs": [
        {
          "output_type": "stream",
          "text": [
            "LDA method - 3 topics\n",
            "Topic  0\n",
            "Word  0 : search\n",
            "Word  1 : microsoft\n",
            "Word  2 : desktop\n",
            "Word  3 : said\n",
            "Word  4 : damage\n",
            "\n",
            "Topic  1\n",
            "Word  0 : players\n",
            "Word  1 : patents\n",
            "Word  2 : ibm\n",
            "Word  3 : survey\n",
            "Word  4 : software\n",
            "\n",
            "Topic  2\n",
            "Word  0 : opera\n",
            "Word  1 : voice\n",
            "Word  2 : browser\n",
            "Word  3 : people\n",
            "Word  4 : appeal\n",
            "\n"
          ],
          "name": "stdout"
        }
      ]
    },
    {
      "cell_type": "code",
      "metadata": {
        "id": "dHERPF34HiWT"
      },
      "source": [
        "# SVD\n",
        "svd_5_twords = TruncatedSVD(n_components=3, random_state=42)\n",
        "\n",
        "svd_twords = svd_5_twords.fit(x_5)\n",
        "\n",
        "# Topics\n",
        "words_svd_5 = df_5_tfidf.get_feature_names()\n",
        "terms_svd_5 = []\n",
        "for i, comp in enumerate(svd_5_twords.components_):\n",
        "  terms_comp = zip(words_svd_5, comp)\n",
        "  sorted_terms_aux = sorted(terms_comp, key= lambda x:x[1], reverse=True)[:7]\n",
        "  terms_svd_5.append(sorted_terms_aux)"
      ],
      "execution_count": null,
      "outputs": []
    },
    {
      "cell_type": "code",
      "metadata": {
        "id": "2GQ-U0bkIOP3",
        "outputId": "db66c75b-bcfa-4027-fbe3-9b5f9f5408f0",
        "colab": {
          "base_uri": "https://localhost:8080/",
          "height": 391
        }
      },
      "source": [
        "# Topics SVD\n",
        "print(\"SVD method - 3 topics\")\n",
        "for i in range(3):\n",
        "  print(\"Topic \", i)\n",
        "  for j in range(5):\n",
        "    print(\"Word \", j, \":\", terms_svd_5[i][j][0])\n",
        "  print(\"\")"
      ],
      "execution_count": null,
      "outputs": [
        {
          "output_type": "stream",
          "text": [
            "SVD method - 3 topics\n",
            "Topic  0\n",
            "Word  0 : patents\n",
            "Word  1 : search\n",
            "Word  2 : software\n",
            "Word  3 : ibm\n",
            "Word  4 : said\n",
            "\n",
            "Topic  1\n",
            "Word  0 : players\n",
            "Word  1 : survey\n",
            "Word  2 : opera\n",
            "Word  3 : aged\n",
            "Word  4 : american\n",
            "\n",
            "Topic  2\n",
            "Word  0 : players\n",
            "Word  1 : damage\n",
            "Word  2 : xbox\n",
            "Word  3 : cables\n",
            "Word  4 : consoles\n",
            "\n"
          ],
          "name": "stdout"
        }
      ]
    },
    {
      "cell_type": "code",
      "metadata": {
        "id": "rX4PBoHlId_c"
      },
      "source": [
        "# NMF\n",
        "nmf_5_twords = TruncatedSVD(n_components=3, random_state=42)\n",
        "\n",
        "nmf_twords = nmf_5_twords.fit(x_5)\n",
        "\n",
        "# Topics\n",
        "words_nmf_5 = df_5_tfidf.get_feature_names()\n",
        "terms_nmf_5 = []\n",
        "for i, comp in enumerate(nmf_5_twords.components_):\n",
        "  terms_comp = zip(words_nmf_5, comp)\n",
        "  sorted_terms_aux = sorted(terms_comp, key= lambda x:x[1], reverse=True)[:7]\n",
        "  terms_nmf_5.append(sorted_terms_aux)"
      ],
      "execution_count": null,
      "outputs": []
    },
    {
      "cell_type": "code",
      "metadata": {
        "id": "-dn-qjkYIySt",
        "outputId": "f5476017-01a9-4810-d760-6530928f516a",
        "colab": {
          "base_uri": "https://localhost:8080/",
          "height": 391
        }
      },
      "source": [
        "# Topics NMF\n",
        "print(\"NMF method - 3 topics\")\n",
        "for i in range(3):\n",
        "  print(\"Topic \", i)\n",
        "  for j in range(5):\n",
        "    print(\"Word \", j, \":\", terms_nmf_5[i][j][0])\n",
        "  print(\"\")"
      ],
      "execution_count": null,
      "outputs": [
        {
          "output_type": "stream",
          "text": [
            "NMF method - 3 topics\n",
            "Topic  0\n",
            "Word  0 : patents\n",
            "Word  1 : search\n",
            "Word  2 : software\n",
            "Word  3 : ibm\n",
            "Word  4 : said\n",
            "\n",
            "Topic  1\n",
            "Word  0 : players\n",
            "Word  1 : survey\n",
            "Word  2 : opera\n",
            "Word  3 : aged\n",
            "Word  4 : american\n",
            "\n",
            "Topic  2\n",
            "Word  0 : players\n",
            "Word  1 : damage\n",
            "Word  2 : xbox\n",
            "Word  3 : cables\n",
            "Word  4 : consoles\n",
            "\n"
          ],
          "name": "stdout"
        }
      ]
    },
    {
      "cell_type": "markdown",
      "metadata": {
        "id": "Dx-OCyfVOloL"
      },
      "source": [
        "**Questão 1 - d)**"
      ]
    },
    {
      "cell_type": "markdown",
      "metadata": {
        "id": "_J5wb2IYKN2N"
      },
      "source": [
        "Escolhendo aleatoriamente 5 textos na base (os com id igual a 015, 047, 108 268 e 310), ao observar os textos e fazer uma avaliação manual notou-se que o SVD e o NMF apresentaram resultados iguais nas 5 palavras relevantes dos 3 tópicos. \n",
        "\n",
        "Estes 2 últimos apresentaram os resultados mais consistentes com os conteúdos dos 5 textos."
      ]
    },
    {
      "cell_type": "markdown",
      "metadata": {
        "id": "NHRLr7eDOnds"
      },
      "source": [
        "**Questão 2 - a)**"
      ]
    },
    {
      "cell_type": "code",
      "metadata": {
        "id": "D_qCMSOLW3mf",
        "outputId": "3071466b-b42d-4451-c62f-c1b9c960b160",
        "colab": {
          "base_uri": "https://localhost:8080/",
          "height": 231
        }
      },
      "source": [
        "# Passos:\n",
        "# Aplica o PCA (TruncatedSVD) para reduzir as dimensões\n",
        "# Após reduzir as dimensões, aplica o kmeans para achar o valor de k ótimo\n",
        "# Tfidf\n",
        "from sklearn.feature_extraction.text import TfidfVectorizer\n",
        "from sklearn.feature_extraction.text import CountVectorizer\n",
        "\n",
        "df_corpus_tfidf = TfidfVectorizer(stop_words=\"english\")\n",
        "x_pca = df_corpus_tfidf.fit_transform(df_corpus.content).toarray()\n",
        "\n",
        "pd_df_corpus_tfidf = pd.DataFrame(x_pca, columns=df_corpus_tfidf.get_feature_names())\n",
        "print(pd_df_corpus_tfidf.shape)"
      ],
      "execution_count": null,
      "outputs": [
        {
          "output_type": "error",
          "ename": "NameError",
          "evalue": "ignored",
          "traceback": [
            "\u001b[0;31m---------------------------------------------------------------------------\u001b[0m",
            "\u001b[0;31mNameError\u001b[0m                                 Traceback (most recent call last)",
            "\u001b[0;32m<ipython-input-1-26143c4fd94f>\u001b[0m in \u001b[0;36m<module>\u001b[0;34m()\u001b[0m\n\u001b[1;32m      6\u001b[0m \u001b[0;34m\u001b[0m\u001b[0m\n\u001b[1;32m      7\u001b[0m \u001b[0mdf_corpus_tfidf\u001b[0m \u001b[0;34m=\u001b[0m \u001b[0mTfidfVectorizer\u001b[0m\u001b[0;34m(\u001b[0m\u001b[0mstop_words\u001b[0m\u001b[0;34m=\u001b[0m\u001b[0;34m\"english\"\u001b[0m\u001b[0;34m)\u001b[0m\u001b[0;34m\u001b[0m\u001b[0;34m\u001b[0m\u001b[0m\n\u001b[0;32m----> 8\u001b[0;31m \u001b[0mx_pca\u001b[0m \u001b[0;34m=\u001b[0m \u001b[0mdf_corpus_tfidf\u001b[0m\u001b[0;34m.\u001b[0m\u001b[0mfit_transform\u001b[0m\u001b[0;34m(\u001b[0m\u001b[0mdf_corpus\u001b[0m\u001b[0;34m.\u001b[0m\u001b[0mcontent\u001b[0m\u001b[0;34m)\u001b[0m\u001b[0;34m.\u001b[0m\u001b[0mtoarray\u001b[0m\u001b[0;34m(\u001b[0m\u001b[0;34m)\u001b[0m\u001b[0;34m\u001b[0m\u001b[0;34m\u001b[0m\u001b[0m\n\u001b[0m\u001b[1;32m      9\u001b[0m \u001b[0;34m\u001b[0m\u001b[0m\n\u001b[1;32m     10\u001b[0m \u001b[0mpd_df_corpus_tfidf\u001b[0m \u001b[0;34m=\u001b[0m \u001b[0mpd\u001b[0m\u001b[0;34m.\u001b[0m\u001b[0mDataFrame\u001b[0m\u001b[0;34m(\u001b[0m\u001b[0mx_pca\u001b[0m\u001b[0;34m,\u001b[0m \u001b[0mcolumns\u001b[0m\u001b[0;34m=\u001b[0m\u001b[0mdf_corpus_tfidf\u001b[0m\u001b[0;34m.\u001b[0m\u001b[0mget_feature_names\u001b[0m\u001b[0;34m(\u001b[0m\u001b[0;34m)\u001b[0m\u001b[0;34m)\u001b[0m\u001b[0;34m\u001b[0m\u001b[0;34m\u001b[0m\u001b[0m\n",
            "\u001b[0;31mNameError\u001b[0m: name 'df_corpus' is not defined"
          ]
        }
      ]
    },
    {
      "cell_type": "code",
      "metadata": {
        "id": "rXWk7F2IvxUn",
        "outputId": "b5b47cc3-60d5-4e72-edbf-e7631450b7c7",
        "colab": {
          "base_uri": "https://localhost:8080/",
          "height": 51
        }
      },
      "source": [
        "from sklearn.decomposition import TruncatedSVD\n",
        "# PCA variance - SVD\n",
        "svd_variance_pca = TruncatedSVD(n_components=280, random_state=42)\n",
        "\n",
        "svd_pca_words = svd_variance_pca.fit(x_pca)\n",
        "\n",
        "print(\"Total variance: \", round(100 * svd_pca_words.explained_variance_ratio_.sum(),2), \"%\")\n",
        "print(\"Dimension after reduction: \", 280) # after reduction: n_components"
      ],
      "execution_count": null,
      "outputs": [
        {
          "output_type": "stream",
          "text": [
            "Total variance:  95.65 %\n",
            "Dimension after reduction:  280\n"
          ],
          "name": "stdout"
        }
      ]
    },
    {
      "cell_type": "markdown",
      "metadata": {
        "id": "knwD8H-kOpZj"
      },
      "source": [
        "**Questão 2 - b)**"
      ]
    },
    {
      "cell_type": "code",
      "metadata": {
        "id": "-cg78pez41Y-",
        "outputId": "0b9ed73f-1d7b-4350-cb70-946f73738c14",
        "colab": {
          "base_uri": "https://localhost:8080/",
          "height": 34
        }
      },
      "source": [
        "# Passos: aplica o kmeans no x_pca reduzido (com 280 dimensões)\n",
        "# Kmeans após a redução\n",
        "from sklearn.cluster import KMeans\n",
        "from scipy.spatial.distance import cdist\n",
        "import time\n",
        "\n",
        "start_time = time.time()\n",
        "\n",
        "#n_cluster = int(4)\n",
        "\n",
        "#svd_pca_kmeans = KMeans(n_clusters=n_cluster, random_state=42)\n",
        "\n",
        "# Aplicando svd no x_pca (tfidf)\n",
        "svd_variance_data = svd_variance_pca.fit_transform(x_pca)\n",
        "\n",
        "# topics_kmeans = svd_pca_kmeans.fit(svd_variance_data)\n",
        "k_cluster = range(1,326)\n",
        "\n",
        "def koptim_elbow(svd_variance_data_param):\n",
        "  distortions_ = [] \n",
        "  inertias = [] \n",
        "  map_distortions = {} \n",
        "  map_inertia = {} \n",
        "\n",
        "  for k in k_cluster: \n",
        "    #Building and fitting the model \n",
        "    svd_pca_kmeans = KMeans(n_clusters=k) #.fit(svd_variance_data_param) \n",
        "    svd_pca_kmeans.fit(svd_variance_data_param)     \n",
        "      \n",
        "    \n",
        "    #distortions_.append(sum(np.min(cdist(svd_variance_data_param,\n",
        "    #                                      svd_pca_kmeans.cluster_centers_,\n",
        "    #                                      'euclidean'),axis=1)) / svd_variance_data_param.shape[0]) \n",
        "    inertias.append(svd_pca_kmeans.inertia_) \n",
        "  \n",
        "    #map_distortions[k] = sum(np.min(cdist(svd_variance_data_param, \n",
        "    #                                      svd_pca_kmeans.cluster_centers_, \n",
        "    #                                      'euclidean'),axis=1)) / svd_variance_data_param.shape[0] \n",
        "    map_inertia[k] = svd_pca_kmeans.inertia_\n",
        "\n",
        "  return (inertias, map_inertia)\n",
        "\n",
        "\n",
        "inertias, map_inertia = koptim_elbow(svd_variance_data)\n",
        "\n",
        "seconds_time_code = (time.time() - start_time)\n",
        "print(\"Time execution: \", round(seconds_time_code, 2), \"seconds.\")"
      ],
      "execution_count": null,
      "outputs": [
        {
          "output_type": "stream",
          "text": [
            "Time execution:  578.27 seconds.\n"
          ],
          "name": "stdout"
        }
      ]
    },
    {
      "cell_type": "code",
      "metadata": {
        "id": "zS2ciBJOYgjZ",
        "outputId": "6310de9f-85cb-458f-ca44-a2261c956fc6",
        "colab": {
          "base_uri": "https://localhost:8080/",
          "height": 51
        }
      },
      "source": [
        "# Tempo de execução\n",
        "def seconds_transform(seconds_time):\n",
        "  hours = int(seconds_time/3600)\n",
        "  rest_1 = seconds_time%3600\n",
        "  minutes = int(rest_1/60)\n",
        "  seconds = rest_1 - 60*minutes\n",
        "  #print(seconds)\n",
        "  print(\"\", (hours), \"h \", (minutes), \"min \", round(seconds,2), \" s\")\n",
        "\n",
        "print(seconds_transform(seconds_time_code))"
      ],
      "execution_count": null,
      "outputs": [
        {
          "output_type": "stream",
          "text": [
            " 0 h  9 min  38.27  s\n",
            "None\n"
          ],
          "name": "stdout"
        }
      ]
    },
    {
      "cell_type": "code",
      "metadata": {
        "id": "fC7BMEtrOxAx"
      },
      "source": [
        "#plt.plot(k_cluster, distortions_, 'bx-') \n",
        "#plt.xlabel('Values of k_cluster') \n",
        "#plt.ylabel('Distortion') \n",
        "#plt.title('The Elbow Method using Distortion') \n",
        "#plt.show() "
      ],
      "execution_count": null,
      "outputs": []
    },
    {
      "cell_type": "code",
      "metadata": {
        "id": "ZqAADxc9PAxj",
        "outputId": "eb2b8756-531a-4121-b6b7-c19b56a66162",
        "colab": {
          "base_uri": "https://localhost:8080/",
          "height": 296
        }
      },
      "source": [
        "plt.plot(k_cluster, inertias, 'bx-') \n",
        "plt.xlabel('Values of k_cluster') \n",
        "plt.ylabel('Distortion') \n",
        "plt.title('The Elbow Method using Inertia') \n",
        "plt.show() "
      ],
      "execution_count": null,
      "outputs": [
        {
          "output_type": "display_data",
          "data": {
            "image/png": "[encoded data removed]",
            "text/plain": [
              "<Figure size 432x288 with 1 Axes>"
            ]
          },
          "metadata": {
            "tags": [],
            "needs_background": "light"
          }
        }
      ]
    },
    {
      "cell_type": "markdown",
      "metadata": {
        "id": "jQs3tdBW85tK"
      },
      "source": [
        "Conforme o gráfico acima, o \"cotovelo\" está em aproximadamente k = 326."
      ]
    },
    {
      "cell_type": "markdown",
      "metadata": {
        "id": "yvuuske6Oq1D"
      },
      "source": [
        "**Questão 3 - a)**"
      ]
    },
    {
      "cell_type": "code",
      "metadata": {
        "id": "0zAlodjVQcnA",
        "outputId": "49f40a33-228f-494e-dd75-0dbe1762dfd3",
        "colab": {
          "base_uri": "https://localhost:8080/",
          "height": 34
        }
      },
      "source": [
        "# Passos:\n",
        "# Usa o TSNE com k=326 (k ótimo)\n",
        "# Usa o UMAP com k=326 (primeiro com o TruncatedSVD para reduzir as dimensões e depois com o UMAP)\n",
        "# TSNE\n",
        "from sklearn.manifold import TSNE\n",
        "from sklearn.decomposition import PCA\n",
        "import umap\n",
        "import time\n",
        "import matplotlib.pyplot as plt\n",
        "import numpy as np\n",
        "\n",
        "start_tsne = time.time()\n",
        "\n",
        "pca_326 = PCA(n_components=326).fit_transform(x_pca)\n",
        "\n",
        "tsne = TSNE(random_state = 42, n_components=2, verbose=0, perplexity=40, n_iter=400).fit_transform(pca_326)\n",
        "\n",
        "time_tsne = (time.time() - start_tsne)\n",
        "print(\"Time execution: \", round(time_tsne, 2), \"seconds.\")"
      ],
      "execution_count": null,
      "outputs": [
        {
          "output_type": "stream",
          "text": [
            "Time execution:  2.83 seconds.\n"
          ],
          "name": "stdout"
        }
      ]
    },
    {
      "cell_type": "code",
      "metadata": {
        "id": "eoj9QpWwZb5-"
      },
      "source": [
        "tsne_col = []\n",
        "for i in range(0,401):\n",
        "  tsne_col.append(tsne[i].sum())\n",
        "\n",
        "tsne_colors = np.array(tsne_col)"
      ],
      "execution_count": null,
      "outputs": []
    },
    {
      "cell_type": "code",
      "metadata": {
        "id": "2SHwuKkEY0xz",
        "outputId": "8fc48832-8211-44e5-b2da-ae776d2e72fd",
        "colab": {
          "base_uri": "https://localhost:8080/",
          "height": 540
        }
      },
      "source": [
        "# Plot tsne\n",
        "fig = plt.figure(figsize=(12,8))\n",
        "plt.scatter(tsne[:, 0], tsne[:, 1], c=tsne_colors, cmap='gist_rainbow')\n",
        "plt.gca().set_aspect('equal', 'datalim')\n",
        "plt.colorbar(boundaries=np.arange(24)).set_ticks(np.arange(24))\n",
        "plt.title('Visualizing t-SNE in 2D', fontsize=24);\n",
        "plt.xlabel('tsne_1')\n",
        "plt.ylabel('tsne_2')"
      ],
      "execution_count": null,
      "outputs": [
        {
          "output_type": "execute_result",
          "data": {
            "text/plain": [
              "Text(0, 0.5, 'tsne_2')"
            ]
          },
          "metadata": {
            "tags": []
          },
          "execution_count": 78
        },
        {
          "output_type": "display_data",
          "data": {
            "image/png": "[encoded data removed]",
            "text/plain": [
              "<Figure size 864x576 with 2 Axes>"
            ]
          },
          "metadata": {
            "tags": [],
            "needs_background": "light"
          }
        }
      ]
    },
    {
      "cell_type": "code",
      "metadata": {
        "id": "Y4NQlN5Of9Wj",
        "outputId": "5a32a625-c9eb-4e24-a0cd-1838194674cf",
        "colab": {
          "base_uri": "https://localhost:8080/",
          "height": 34
        }
      },
      "source": [
        "# UMAP\n",
        "import umap\n",
        "\n",
        "start_tsne = time.time()\n",
        "\n",
        "umap_326 = umap.UMAP(n_components=326).fit_transform(x_pca)\n",
        "\n",
        "time_tsne = (time.time() - start_tsne)\n",
        "print(\"Time execution: \", round(time_tsne, 2), \"seconds.\")"
      ],
      "execution_count": null,
      "outputs": [
        {
          "output_type": "stream",
          "text": [
            "Time execution:  6.16 seconds.\n"
          ],
          "name": "stdout"
        }
      ]
    },
    {
      "cell_type": "code",
      "metadata": {
        "id": "DnNjSVIehbKR",
        "outputId": "a1897f2b-72a7-4d43-ad90-3cc2af3849d1",
        "colab": {
          "base_uri": "https://localhost:8080/",
          "height": 34
        }
      },
      "source": [
        "print(umap_326.shape)\n",
        "umap_col = []\n",
        "for i in range(0,401):\n",
        "  umap_col.append(umap_326[i].sum())\n",
        "\n",
        "umap_colors = np.array(umap_col)"
      ],
      "execution_count": null,
      "outputs": [
        {
          "output_type": "stream",
          "text": [
            "(401, 326)\n"
          ],
          "name": "stdout"
        }
      ]
    },
    {
      "cell_type": "code",
      "metadata": {
        "id": "8LusLWKqhV8L",
        "outputId": "bc55120f-1d44-4b54-d989-9aabbe301e96",
        "colab": {
          "base_uri": "https://localhost:8080/",
          "height": 523
        }
      },
      "source": [
        "# Visualising UMAP in 2d\n",
        "fig = plt.figure(figsize=(12,8))\n",
        "plt.scatter(umap_326[:, 0], umap_326[:, 1], c=umap_colors, cmap='gist_rainbow')\n",
        "plt.gca().set_aspect('equal', 'datalim')\n",
        "plt.colorbar(boundaries=np.arange(24)).set_ticks(np.arange(24))\n",
        "plt.xlabel('umap_1')\n",
        "plt.ylabel('umap_2')\n",
        "plt.title('Visualizing UMAP in 2D', fontsize=24);"
      ],
      "execution_count": null,
      "outputs": [
        {
          "output_type": "display_data",
          "data": {
            "image/png": "[encoded data removed]",
            "text/plain": [
              "<Figure size 864x576 with 2 Axes>"
            ]
          },
          "metadata": {
            "tags": [],
            "needs_background": "light"
          }
        }
      ]
    },
    {
      "cell_type": "markdown",
      "metadata": {
        "id": "TM5m5-KdOsxM"
      },
      "source": [
        "**Questão 3 - b)**\n",
        "Tempo de execução do TSNE: 2.83 seconds.\n",
        "Tempo de execução do UMAP: 6.16 seconds.\n",
        "\n",
        "Neste caso, o primeiro algoritmo se mostrou quase duas vezes mais rápido."
      ]
    }
  ]
}